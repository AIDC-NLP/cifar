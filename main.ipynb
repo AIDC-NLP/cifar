{
 "cells": [
  {
   "cell_type": "code",
   "execution_count": 3,
   "metadata": {},
   "outputs": [],
   "source": [
    "import pandas as pd\n",
    "import os\n",
    "from PIL import Image\n",
    "import numpy as np\n",
    "from torch import  nn\n",
    "from model_cbam import ResNet\n",
    "from model_cbam import BasicBlock\n",
    "from model_cbam import Bottleneck\n",
    "from model_cbam import _netG_CIFAR10\n",
    "import torch.optim as optim\n",
    "from tqdm import tqdm\n",
    "import pickle\n",
    "model = mod5=ResNet(BasicBlock)\n",
    "modelG=_netG_CIFAR10(110)"
   ]
  },
  {
   "cell_type": "code",
   "execution_count": 4,
   "metadata": {},
   "outputs": [
    {
     "name": "stdout",
     "output_type": "stream",
     "text": [
      "GPU可用\n"
     ]
    }
   ],
   "source": [
    "import torch\n",
    "\n",
    "# Step 1: 检查GPU可用性\n",
    "if torch.cuda.is_available():\n",
    "    device = torch.device('cuda')  # 设置设备为GPU\n",
    "    print(\"GPU可用\")\n",
    "else:\n",
    "    device = torch.device('cpu')   # 设置设备为CPU\n",
    "    print(\"GPU不可用，将使用CPU\")\n",
    "\n",
    "\n"
   ]
  },
  {
   "cell_type": "code",
   "execution_count": 5,
   "metadata": {},
   "outputs": [
    {
     "name": "stderr",
     "output_type": "stream",
     "text": [
      "c:\\Users\\35807\\anaconda3\\envs\\myenv\\lib\\site-packages\\tqdm\\auto.py:21: TqdmWarning: IProgress not found. Please update jupyter and ipywidgets. See https://ipywidgets.readthedocs.io/en/stable/user_install.html\n",
      "  from .autonotebook import tqdm as notebook_tqdm\n"
     ]
    }
   ],
   "source": [
    "from torchvision import transforms\n",
    "\n",
    "# 定义你的transforms\n",
    "transform = transforms.Compose([\n",
    "    #transforms.Resize(256),\n",
    "    #transforms.CenterCrop(224),\n",
    "    transforms.ToTensor(),\n",
    "    transforms.Normalize(mean=[0.485, 0.456, 0.406], std=[0.229, 0.224, 0.225]),\n",
    "])"
   ]
  },
  {
   "cell_type": "code",
   "execution_count": 6,
   "metadata": {},
   "outputs": [],
   "source": [
    "import torch\n",
    "from torch.utils.data import Dataset, DataLoader\n",
    "\n",
    "class CustomDataset(Dataset):\n",
    "    def __init__(self, csv,address,dic,transform=None):\n",
    "\n",
    "        self.csv=csv\n",
    "        self.address=address\n",
    "        self.transform = transform\n",
    "        self.dic=dic\n",
    "    \n",
    "    def __len__(self):\n",
    "        \"\"\"\n",
    "        返回数据集中样本的数量。\n",
    "        \"\"\"\n",
    "        return len(self.csv)\n",
    "    \n",
    "    def __getitem__(self, idx):\n",
    "        \"\"\"\n",
    "        根据给定的索引idx返回一个样本。\n",
    "        参数:\n",
    "            idx (int): 样本的索引。\n",
    "        返回值:\n",
    "            一个包含特征和标签的元组。\n",
    "        \"\"\"\n",
    "        all=self.csv.iloc[idx]\n",
    "        x=all[0]\n",
    "        x=str(x)+\".png\"\n",
    "        new_add=os.path.join(self.address,x)\n",
    "        image=Image.open(new_add)\n",
    "        #image_array=np.array(image)\n",
    "        if self.transform:\n",
    "            x = self.transform(image)\n",
    "        #x=image_array\n",
    "        y=all[1]\n",
    "        #y=y[1]\n",
    "        #y=str(y)\n",
    "        y=self.dic[y]\n",
    "        return x,y"
   ]
  },
  {
   "cell_type": "code",
   "execution_count": 7,
   "metadata": {},
   "outputs": [],
   "source": [
    "address=\"C:\\\\Users\\\\35807\\\\Desktop\\\\paper\\\\cifar-10\\\\train\"\n",
    "frog=torch.tensor([1,0,0,0,0,0,0,0,0,0])\n",
    "truck=torch.tensor([0,1,0,0,0,0,0,0,0,0])\n",
    "deer=torch.tensor([0,0,1,0,0,0,0,0,0,0])\n",
    "automobile=torch.tensor([0,0,0,1,0,0,0,0,0,0])\n",
    "bird=torch.tensor([0,0,0,0,1,0,0,0,0,0])\n",
    "horse=torch.tensor([0,0,0,0,0,1,0,0,0,0])\n",
    "cat=torch.tensor([0,0,0,0,0,0,1,0,0,0])\n",
    "ship=torch.tensor([0,0,0,0,0,0,0,1,0,0])\n",
    "airplane=torch.tensor([0,0,0,0,0,0,0,0,1,0])\n",
    "dog=torch.tensor([0,0,0,0,0,0,0,0,0,1])\n",
    "dic={}\n",
    "dic['frog']=frog\n",
    "dic['truck']=truck\n",
    "dic[\"deer\"]=deer\n",
    "dic[\"automobile\"]=automobile\n",
    "dic[\"bird\"]=bird\n",
    "dic[\"horse\"]=horse\n",
    "dic[\"cat\"]=cat\n",
    "dic['ship']=ship\n",
    "dic[\"airplane\"]=airplane\n",
    "dic[\"dog\"]=dog"
   ]
  },
  {
   "cell_type": "code",
   "execution_count": 8,
   "metadata": {},
   "outputs": [],
   "source": [
    "csv=pd.read_csv(f\"C:\\\\Users\\\\35807\\\\Desktop\\\\paper\\\\cifar-10\\\\trainLabels.csv\")\n",
    "# csv\n",
    "# x=csv.iloc[0][0]\n",
    "# x=str(x)+'.png'\n",
    "# new_add=os.path.join(address,x)\n",
    "# new_add\n",
    "# image = Image.open(new_add)\n",
    "\n",
    "# image_array = np.array(image)\n",
    "# image_array"
   ]
  },
  {
   "cell_type": "code",
   "execution_count": 9,
   "metadata": {},
   "outputs": [],
   "source": [
    "# netD= ResNet(Bottleneck, [2, 2, 2, 2])\n",
    "# netG=_netG_CIFAR10(110)\n",
    "batch_size=3\n",
    "nz=100"
   ]
  },
  {
   "cell_type": "code",
   "execution_count": 10,
   "metadata": {},
   "outputs": [],
   "source": [
    "custom_dataset = CustomDataset(csv=csv,address=address,dic=dic,transform=transform)\n",
    "\n",
    "# 使用DataLoader来加载数据集\n",
    "data_loader = DataLoader(dataset=custom_dataset, batch_size=batch_size, shuffle=True,drop_last=True)\n",
    "\n",
    "# 使用DataLoader\n",
    "# for x,y in data_loader:\n",
    "#     # 在这里处理批量数据和标签\n",
    "#     # 例如：训练模型\n",
    "#     #print(type(y))\n",
    "#     # print(y)\n",
    "#     #print(y.shape)\n",
    "#     pass"
   ]
  },
  {
   "cell_type": "code",
   "execution_count": null,
   "metadata": {},
   "outputs": [],
   "source": []
  },
  {
   "cell_type": "code",
   "execution_count": 11,
   "metadata": {},
   "outputs": [],
   "source": [
    "netD=ResNet(BasicBlock)\n",
    "netG=_netG_CIFAR10(110)\n",
    "batch_size=3\n",
    "nz=110"
   ]
  },
  {
   "cell_type": "code",
   "execution_count": 12,
   "metadata": {},
   "outputs": [],
   "source": [
    "input = torch.FloatTensor(batch_size, 3, 32,32)\n",
    "noise = torch.FloatTensor(batch_size, nz, 1, 1)\n",
    "eval_noise = torch.FloatTensor(batch_size, nz, 1, 1).normal_(0, 1)\n",
    "dis_label = torch.tensor([0])\n",
    "aux_label = torch.LongTensor(batch_size)\n",
    "real_label = 1\n",
    "fake_label = 0\n",
    "real_label = 1\n",
    "fake_label = 0\n",
    "num_classes=10\n",
    "dis_criterion = nn.BCELoss()\n",
    "aux_criterion = nn.NLLLoss()\n",
    "real_label = torch.full((batch_size, 1), 1)\n",
    "#wrong_label=torch.full((batch_size, 1), 0)\n",
    "wrong_label=torch.tensor([0]).squeeze().float()\n",
    "criterion = nn.CrossEntropyLoss()"
   ]
  },
  {
   "cell_type": "code",
   "execution_count": 13,
   "metadata": {},
   "outputs": [],
   "source": [
    "# print(dis_output.shape)\n",
    "# #print(wrong_label.shape)\n",
    "# print(dis_output.squeeze().shape)\n",
    "# print(wrong_label.shape)\n",
    "# print(wrong_label.squeeze().shape)\n",
    "# print(dis_output.shape)\n",
    "# print(dis_output.squeeze().shape)\n",
    "#print(aux_output.shape)"
   ]
  },
  {
   "cell_type": "code",
   "execution_count": 14,
   "metadata": {},
   "outputs": [
    {
     "name": "stderr",
     "output_type": "stream",
     "text": [
      "                                                     \r"
     ]
    }
   ],
   "source": [
    "optimizerD = optim.Adam(netD.parameters(), lr=0.05, )\n",
    "optimizerG = optim.Adam(netG.parameters(), lr=0.05, )\n",
    "netD=netD.to(device)\n",
    "netG=netG.to(device)\n",
    "avg_loss_D = 0.0\n",
    "avg_loss_G = 0.0\n",
    "avg_loss_A = 0.0\n",
    "aux_errD_reals=[]\n",
    "dis_errD_fakes=[]\n",
    "aux_errD_fakes=[]\n",
    "#for epoch in tqdm(range(10)):\n",
    "for epoch in range(10):\n",
    "    idx=0\n",
    "    dis_errD_fakess=0\n",
    "    aux_errD_fakess=0\n",
    "    aux_errD_realss=0\n",
    "    for  x,y in tqdm(data_loader,leave=False):\n",
    "        x=x.to(device)\n",
    "        y=y.to(device)\n",
    "        idx=idx+1\n",
    "        ############################\n",
    "        # (1) Update D network: maximize log(D(x)) + log(1 - D(G(z)))\n",
    "        ###########################\n",
    "        # train with real\n",
    "        netD.zero_grad()\n",
    "        real_cpu, label = x,y#获取到xy\n",
    "        batch_size = real_cpu.size(0)\n",
    "        # if device==\"cuda\":\n",
    "        #     real_cpu = real_cpu.cuda()\n",
    "        #input.data.resize_as_(real_cpu).copy_(real_cpu)\n",
    "        # dis_label.data.resize_(batch_size).fill_(real_label)\n",
    "        # aux_label.data.resize_(batch_size).copy_(label)\n",
    "        dis_output, aux_output = netD(real_cpu)#先输出的是概率，后输出的是类别，dis是概率，aux是类别\n",
    "\n",
    "        wrong_label=wrong_label.to(device)\n",
    "        dis_errD_real = dis_criterion(dis_output, wrong_label)#计算概率损失,最佳期望：全部为0\n",
    "        # print(aux_output)\n",
    "        # print(aux_output.shape)\n",
    "        # print(label)\n",
    "        # print(label.shape)\n",
    "        label=label.float()\n",
    "        aux_errD_real = criterion(aux_output, label)#计算类别损失\n",
    "        aux_errD_realss=aux_errD_realss+aux_errD_real\n",
    "        errD_real = dis_errD_real + aux_errD_real#损失分为两部分，一部分是概率的损失，一部分是类别的损失\n",
    "        errD_real.backward()\n",
    "        #D_x = dis_output.data.mean()\n",
    "\n",
    "\n",
    "        # train with fake，用生成是数据测试\n",
    "        noise.data.resize_(batch_size, nz, 1, 1).normal_(0, 1)#生成噪音，用于生成图片\n",
    "        label = np.random.randint(0, num_classes, batch_size)#噪音对应的标签\n",
    "        noise_ = np.random.normal(0, 1, (batch_size, nz))\n",
    "        class_onehot = np.zeros((batch_size, num_classes))\n",
    "        class_onehot[np.arange(batch_size), label] = 1\n",
    "        noise_[np.arange(batch_size), :num_classes] = class_onehot[np.arange(batch_size)]\n",
    "        noise_ = (torch.from_numpy(noise_))\n",
    "        noise.data.copy_(noise_.view(batch_size, nz, 1, 1))\n",
    "        aux_label.data.resize_(batch_size).copy_(torch.from_numpy(label)).to(device)\n",
    "        \n",
    "        noise=noise.to(device)\n",
    "        fake = netG(noise)\n",
    "        dis_label.data.fill_(fake_label).to(device)\n",
    "        dis_label=dis_label.squeeze().float().to(device)\n",
    "        dis_output, aux_output = netD(fake.detach())\n",
    "        # print(dis_output.shape)\n",
    "        # print(dis_label.shape)\n",
    "        \n",
    "        \n",
    "        # print(dis_output)\n",
    "        # print(dis_label) \n",
    "        dis_errD_fake = dis_criterion(dis_output, dis_label)#计算概率损失\n",
    "        #print(aux_output)\n",
    "        #print(aux_label)\n",
    "        aux_label=aux_label.to(device)\n",
    "        aux_errD_fake = aux_criterion(aux_output, aux_label)#计算类别损失\n",
    "        dis_errD_fakess=dis_errD_fakess+dis_errD_fake\n",
    "        aux_errD_fakess=aux_errD_fakess+aux_errD_fake\n",
    "        \n",
    "        \n",
    "        errD_fake = dis_errD_fake + aux_errD_fake\n",
    "        errD_fake.backward()\n",
    "        D_G_z1 = dis_output.data.mean()\n",
    "        errD = errD_real + errD_fake\n",
    "        optimizerD.step()\n",
    "\n",
    "        ############################\n",
    "        # (2) Update G network: maximize log(D(G(z)))\n",
    "        ###########################\n",
    "        netG.zero_grad()\n",
    "        #dis_label.data.fill_(real_label)  # fake labels are real for generator cost\n",
    "        dis_label.data.fill_(1) \n",
    "        dis_output, aux_output = netD(fake)\n",
    "        dis_errG = dis_criterion(dis_output, dis_label)\n",
    "        aux_errG = aux_criterion(aux_output, aux_label)\n",
    "        errG = dis_errG + aux_errG\n",
    "        errG.backward()\n",
    "        D_G_z2 = dis_output.data.mean()\n",
    "        optimizerG.step()\n",
    "    dis_errD_fakess=dis_errD_fakess/idx\n",
    "    aux_errD_fakess=aux_errD_fakess/idx\n",
    "    aux_errD_realss=aux_errD_realss/idx\n",
    "    dis_errD_fakes.append(dis_errD_fakess)\n",
    "    aux_errD_reals.append(aux_errD_realss)\n",
    "    aux_errD_fakes.append(aux_errD_fakes)\n",
    "\n",
    "# with open('dis_errD.pkl', 'rb') as f:\n",
    "#     pickle.dump(dis_errD_fakes, f)\n",
    "# with open('aux_errD_real.pkl', 'rb') as f:\n",
    "#     pickle.dump(aux_errD_reals, f)\n",
    "# with open('aux_errD_fake.pkl', 'rb') as f:\n",
    "#     pickle.dump(aux_errD_fakes, f)"
   ]
  },
  {
   "cell_type": "code",
   "execution_count": 15,
   "metadata": {},
   "outputs": [
    {
     "ename": "TypeError",
     "evalue": "can't convert cuda:0 device type tensor to numpy. Use Tensor.cpu() to copy the tensor to host memory first.",
     "output_type": "error",
     "traceback": [
      "\u001b[1;31m---------------------------------------------------------------------------\u001b[0m",
      "\u001b[1;31mTypeError\u001b[0m                                 Traceback (most recent call last)",
      "Cell \u001b[1;32mIn[15], line 7\u001b[0m\n\u001b[0;32m      4\u001b[0m fig, axs \u001b[38;5;241m=\u001b[39m plt\u001b[38;5;241m.\u001b[39msubplots(\u001b[38;5;241m1\u001b[39m, \u001b[38;5;241m3\u001b[39m, figsize\u001b[38;5;241m=\u001b[39m(\u001b[38;5;241m15\u001b[39m, \u001b[38;5;241m5\u001b[39m)) \u001b[38;5;66;03m# figsize可以根据需要调整\u001b[39;00m\n\u001b[0;32m      6\u001b[0m \u001b[38;5;66;03m# 在第一个子图上绘制dis_errD_fakes\u001b[39;00m\n\u001b[1;32m----> 7\u001b[0m \u001b[43maxs\u001b[49m\u001b[43m[\u001b[49m\u001b[38;5;241;43m0\u001b[39;49m\u001b[43m]\u001b[49m\u001b[38;5;241;43m.\u001b[39;49m\u001b[43mplot\u001b[49m\u001b[43m(\u001b[49m\u001b[43mdis_errD_fakes\u001b[49m\u001b[43m)\u001b[49m\n\u001b[0;32m      8\u001b[0m axs[\u001b[38;5;241m0\u001b[39m]\u001b[38;5;241m.\u001b[39mset_title(\u001b[38;5;124m'\u001b[39m\u001b[38;5;124mdis_errD_fakes\u001b[39m\u001b[38;5;124m'\u001b[39m) \u001b[38;5;66;03m# 可以设置标题\u001b[39;00m\n\u001b[0;32m      9\u001b[0m axs[\u001b[38;5;241m0\u001b[39m]\u001b[38;5;241m.\u001b[39mset_xlabel(\u001b[38;5;124m'\u001b[39m\u001b[38;5;124mEpoch\u001b[39m\u001b[38;5;124m'\u001b[39m) \u001b[38;5;66;03m# 设置X轴标签\u001b[39;00m\n",
      "File \u001b[1;32mc:\\Users\\35807\\anaconda3\\envs\\myenv\\lib\\site-packages\\matplotlib\\axes\\_axes.py:1721\u001b[0m, in \u001b[0;36mAxes.plot\u001b[1;34m(self, scalex, scaley, data, *args, **kwargs)\u001b[0m\n\u001b[0;32m   1478\u001b[0m \u001b[38;5;250m\u001b[39m\u001b[38;5;124;03m\"\"\"\u001b[39;00m\n\u001b[0;32m   1479\u001b[0m \u001b[38;5;124;03mPlot y versus x as lines and/or markers.\u001b[39;00m\n\u001b[0;32m   1480\u001b[0m \n\u001b[1;32m   (...)\u001b[0m\n\u001b[0;32m   1718\u001b[0m \u001b[38;5;124;03m(``'green'``) or hex strings (``'#008000'``).\u001b[39;00m\n\u001b[0;32m   1719\u001b[0m \u001b[38;5;124;03m\"\"\"\u001b[39;00m\n\u001b[0;32m   1720\u001b[0m kwargs \u001b[38;5;241m=\u001b[39m cbook\u001b[38;5;241m.\u001b[39mnormalize_kwargs(kwargs, mlines\u001b[38;5;241m.\u001b[39mLine2D)\n\u001b[1;32m-> 1721\u001b[0m lines \u001b[38;5;241m=\u001b[39m [\u001b[38;5;241m*\u001b[39m\u001b[38;5;28mself\u001b[39m\u001b[38;5;241m.\u001b[39m_get_lines(\u001b[38;5;28mself\u001b[39m, \u001b[38;5;241m*\u001b[39margs, data\u001b[38;5;241m=\u001b[39mdata, \u001b[38;5;241m*\u001b[39m\u001b[38;5;241m*\u001b[39mkwargs)]\n\u001b[0;32m   1722\u001b[0m \u001b[38;5;28;01mfor\u001b[39;00m line \u001b[38;5;129;01min\u001b[39;00m lines:\n\u001b[0;32m   1723\u001b[0m     \u001b[38;5;28mself\u001b[39m\u001b[38;5;241m.\u001b[39madd_line(line)\n",
      "File \u001b[1;32mc:\\Users\\35807\\anaconda3\\envs\\myenv\\lib\\site-packages\\matplotlib\\axes\\_base.py:303\u001b[0m, in \u001b[0;36m_process_plot_var_args.__call__\u001b[1;34m(self, axes, data, *args, **kwargs)\u001b[0m\n\u001b[0;32m    301\u001b[0m     this \u001b[38;5;241m+\u001b[39m\u001b[38;5;241m=\u001b[39m args[\u001b[38;5;241m0\u001b[39m],\n\u001b[0;32m    302\u001b[0m     args \u001b[38;5;241m=\u001b[39m args[\u001b[38;5;241m1\u001b[39m:]\n\u001b[1;32m--> 303\u001b[0m \u001b[38;5;28;01myield from\u001b[39;00m \u001b[38;5;28;43mself\u001b[39;49m\u001b[38;5;241;43m.\u001b[39;49m\u001b[43m_plot_args\u001b[49m\u001b[43m(\u001b[49m\n\u001b[0;32m    304\u001b[0m \u001b[43m    \u001b[49m\u001b[43maxes\u001b[49m\u001b[43m,\u001b[49m\u001b[43m \u001b[49m\u001b[43mthis\u001b[49m\u001b[43m,\u001b[49m\u001b[43m \u001b[49m\u001b[43mkwargs\u001b[49m\u001b[43m,\u001b[49m\u001b[43m \u001b[49m\u001b[43mambiguous_fmt_datakey\u001b[49m\u001b[38;5;241;43m=\u001b[39;49m\u001b[43mambiguous_fmt_datakey\u001b[49m\u001b[43m)\u001b[49m\n",
      "File \u001b[1;32mc:\\Users\\35807\\anaconda3\\envs\\myenv\\lib\\site-packages\\matplotlib\\axes\\_base.py:491\u001b[0m, in \u001b[0;36m_process_plot_var_args._plot_args\u001b[1;34m(self, axes, tup, kwargs, return_kwargs, ambiguous_fmt_datakey)\u001b[0m\n\u001b[0;32m    489\u001b[0m     y \u001b[38;5;241m=\u001b[39m _check_1d(xy[\u001b[38;5;241m1\u001b[39m])\n\u001b[0;32m    490\u001b[0m \u001b[38;5;28;01melse\u001b[39;00m:\n\u001b[1;32m--> 491\u001b[0m     x, y \u001b[38;5;241m=\u001b[39m \u001b[43mindex_of\u001b[49m\u001b[43m(\u001b[49m\u001b[43mxy\u001b[49m\u001b[43m[\u001b[49m\u001b[38;5;241;43m-\u001b[39;49m\u001b[38;5;241;43m1\u001b[39;49m\u001b[43m]\u001b[49m\u001b[43m)\u001b[49m\n\u001b[0;32m    493\u001b[0m \u001b[38;5;28;01mif\u001b[39;00m axes\u001b[38;5;241m.\u001b[39mxaxis \u001b[38;5;129;01mis\u001b[39;00m \u001b[38;5;129;01mnot\u001b[39;00m \u001b[38;5;28;01mNone\u001b[39;00m:\n\u001b[0;32m    494\u001b[0m     axes\u001b[38;5;241m.\u001b[39mxaxis\u001b[38;5;241m.\u001b[39mupdate_units(x)\n",
      "File \u001b[1;32mc:\\Users\\35807\\anaconda3\\envs\\myenv\\lib\\site-packages\\matplotlib\\cbook.py:1666\u001b[0m, in \u001b[0;36mindex_of\u001b[1;34m(y)\u001b[0m\n\u001b[0;32m   1664\u001b[0m     \u001b[38;5;28;01mpass\u001b[39;00m\n\u001b[0;32m   1665\u001b[0m \u001b[38;5;28;01mtry\u001b[39;00m:\n\u001b[1;32m-> 1666\u001b[0m     y \u001b[38;5;241m=\u001b[39m \u001b[43m_check_1d\u001b[49m\u001b[43m(\u001b[49m\u001b[43my\u001b[49m\u001b[43m)\u001b[49m\n\u001b[0;32m   1667\u001b[0m \u001b[38;5;28;01mexcept\u001b[39;00m (VisibleDeprecationWarning, \u001b[38;5;167;01mValueError\u001b[39;00m):\n\u001b[0;32m   1668\u001b[0m     \u001b[38;5;66;03m# NumPy 1.19 will warn on ragged input, and we can't actually use it.\u001b[39;00m\n\u001b[0;32m   1669\u001b[0m     \u001b[38;5;28;01mpass\u001b[39;00m\n",
      "File \u001b[1;32mc:\\Users\\35807\\anaconda3\\envs\\myenv\\lib\\site-packages\\matplotlib\\cbook.py:1358\u001b[0m, in \u001b[0;36m_check_1d\u001b[1;34m(x)\u001b[0m\n\u001b[0;32m   1352\u001b[0m \u001b[38;5;66;03m# plot requires `shape` and `ndim`.  If passed an\u001b[39;00m\n\u001b[0;32m   1353\u001b[0m \u001b[38;5;66;03m# object that doesn't provide them, then force to numpy array.\u001b[39;00m\n\u001b[0;32m   1354\u001b[0m \u001b[38;5;66;03m# Note this will strip unit information.\u001b[39;00m\n\u001b[0;32m   1355\u001b[0m \u001b[38;5;28;01mif\u001b[39;00m (\u001b[38;5;129;01mnot\u001b[39;00m \u001b[38;5;28mhasattr\u001b[39m(x, \u001b[38;5;124m'\u001b[39m\u001b[38;5;124mshape\u001b[39m\u001b[38;5;124m'\u001b[39m) \u001b[38;5;129;01mor\u001b[39;00m\n\u001b[0;32m   1356\u001b[0m         \u001b[38;5;129;01mnot\u001b[39;00m \u001b[38;5;28mhasattr\u001b[39m(x, \u001b[38;5;124m'\u001b[39m\u001b[38;5;124mndim\u001b[39m\u001b[38;5;124m'\u001b[39m) \u001b[38;5;129;01mor\u001b[39;00m\n\u001b[0;32m   1357\u001b[0m         \u001b[38;5;28mlen\u001b[39m(x\u001b[38;5;241m.\u001b[39mshape) \u001b[38;5;241m<\u001b[39m \u001b[38;5;241m1\u001b[39m):\n\u001b[1;32m-> 1358\u001b[0m     \u001b[38;5;28;01mreturn\u001b[39;00m \u001b[43mnp\u001b[49m\u001b[38;5;241;43m.\u001b[39;49m\u001b[43matleast_1d\u001b[49m\u001b[43m(\u001b[49m\u001b[43mx\u001b[49m\u001b[43m)\u001b[49m\n\u001b[0;32m   1359\u001b[0m \u001b[38;5;28;01melse\u001b[39;00m:\n\u001b[0;32m   1360\u001b[0m     \u001b[38;5;28;01mreturn\u001b[39;00m x\n",
      "File \u001b[1;32m<__array_function__ internals>:200\u001b[0m, in \u001b[0;36matleast_1d\u001b[1;34m(*args, **kwargs)\u001b[0m\n",
      "File \u001b[1;32mc:\\Users\\35807\\anaconda3\\envs\\myenv\\lib\\site-packages\\numpy\\core\\shape_base.py:65\u001b[0m, in \u001b[0;36matleast_1d\u001b[1;34m(*arys)\u001b[0m\n\u001b[0;32m     63\u001b[0m res \u001b[38;5;241m=\u001b[39m []\n\u001b[0;32m     64\u001b[0m \u001b[38;5;28;01mfor\u001b[39;00m ary \u001b[38;5;129;01min\u001b[39;00m arys:\n\u001b[1;32m---> 65\u001b[0m     ary \u001b[38;5;241m=\u001b[39m \u001b[43masanyarray\u001b[49m\u001b[43m(\u001b[49m\u001b[43mary\u001b[49m\u001b[43m)\u001b[49m\n\u001b[0;32m     66\u001b[0m     \u001b[38;5;28;01mif\u001b[39;00m ary\u001b[38;5;241m.\u001b[39mndim \u001b[38;5;241m==\u001b[39m \u001b[38;5;241m0\u001b[39m:\n\u001b[0;32m     67\u001b[0m         result \u001b[38;5;241m=\u001b[39m ary\u001b[38;5;241m.\u001b[39mreshape(\u001b[38;5;241m1\u001b[39m)\n",
      "File \u001b[1;32mc:\\Users\\35807\\anaconda3\\envs\\myenv\\lib\\site-packages\\torch\\_tensor.py:1062\u001b[0m, in \u001b[0;36mTensor.__array__\u001b[1;34m(self, dtype)\u001b[0m\n\u001b[0;32m   1060\u001b[0m     \u001b[38;5;28;01mreturn\u001b[39;00m handle_torch_function(Tensor\u001b[38;5;241m.\u001b[39m__array__, (\u001b[38;5;28mself\u001b[39m,), \u001b[38;5;28mself\u001b[39m, dtype\u001b[38;5;241m=\u001b[39mdtype)\n\u001b[0;32m   1061\u001b[0m \u001b[38;5;28;01mif\u001b[39;00m dtype \u001b[38;5;129;01mis\u001b[39;00m \u001b[38;5;28;01mNone\u001b[39;00m:\n\u001b[1;32m-> 1062\u001b[0m     \u001b[38;5;28;01mreturn\u001b[39;00m \u001b[38;5;28;43mself\u001b[39;49m\u001b[38;5;241;43m.\u001b[39;49m\u001b[43mnumpy\u001b[49m\u001b[43m(\u001b[49m\u001b[43m)\u001b[49m\n\u001b[0;32m   1063\u001b[0m \u001b[38;5;28;01melse\u001b[39;00m:\n\u001b[0;32m   1064\u001b[0m     \u001b[38;5;28;01mreturn\u001b[39;00m \u001b[38;5;28mself\u001b[39m\u001b[38;5;241m.\u001b[39mnumpy()\u001b[38;5;241m.\u001b[39mastype(dtype, copy\u001b[38;5;241m=\u001b[39m\u001b[38;5;28;01mFalse\u001b[39;00m)\n",
      "\u001b[1;31mTypeError\u001b[0m: can't convert cuda:0 device type tensor to numpy. Use Tensor.cpu() to copy the tensor to host memory first."
     ]
    },
    {
     "data": {
      "image/png": "[encoded data removed]",
      "text/plain": [
       "<Figure size 1500x500 with 3 Axes>"
      ]
     },
     "metadata": {},
     "output_type": "display_data"
    }
   ],
   "source": [
    "import matplotlib.pyplot as plt\n",
    "\n",
    "# 创建一个行三列的子图布局\n",
    "fig, axs = plt.subplots(1, 3, figsize=(15, 5)) # figsize可以根据需要调整\n",
    "\n",
    "# 在第一个子图上绘制dis_errD_fakes\n",
    "axs[0].plot(dis_errD_fakes)\n",
    "axs[0].set_title('dis_errD_fakes') # 可以设置标题\n",
    "axs[0].set_xlabel('Epoch') # 设置X轴标签\n",
    "axs[0].set_ylabel('Error') # 设置Y轴标签\n",
    "\n",
    "# 在第二个子图上绘制aux_errD_reals\n",
    "axs[1].plot(aux_errD_reals)\n",
    "axs[1].set_title('aux_errD_reals')\n",
    "axs[1].set_xlabel('Epoch')\n",
    "axs[1].set_ylabel('Error')\n",
    "\n",
    "# 在第三个子图上绘制aux_errD_fakes\n",
    "axs[2].plot(aux_errD_fakes)\n",
    "axs[2].set_title('aux_errD_fakes')\n",
    "axs[2].set_xlabel('Epoch')\n",
    "axs[2].set_ylabel('Error')\n",
    "\n",
    "plt.tight_layout() # 自动调整子图间距\n",
    "plt.show() # 显示图表\n"
   ]
  },
  {
   "cell_type": "code",
   "execution_count": null,
   "metadata": {},
   "outputs": [
    {
     "ename": "AttributeError",
     "evalue": "'list' object has no attribute 'cpu'",
     "output_type": "error",
     "traceback": [
      "\u001b[1;31m---------------------------------------------------------------------------\u001b[0m",
      "\u001b[1;31mAttributeError\u001b[0m                            Traceback (most recent call last)",
      "Cell \u001b[1;32mIn[15], line 8\u001b[0m\n\u001b[0;32m      2\u001b[0m \u001b[38;5;28;01mimport\u001b[39;00m \u001b[38;5;21;01mnumpy\u001b[39;00m \u001b[38;5;28;01mas\u001b[39;00m \u001b[38;5;21;01mnp\u001b[39;00m\n\u001b[0;32m      4\u001b[0m \u001b[38;5;66;03m# 假设这是您的数据张量，这里我们只是示例，您应当使用您自己的数据\u001b[39;00m\n\u001b[0;32m      5\u001b[0m \u001b[38;5;66;03m# 假设 dis_errD_fakes, aux_errD_reals, aux_errD_fakes 已经是CUDA上的张量\u001b[39;00m\n\u001b[0;32m      6\u001b[0m \n\u001b[0;32m      7\u001b[0m \u001b[38;5;66;03m# 将张量从CUDA转移到CPU，并转换为NumPy数组\u001b[39;00m\n\u001b[1;32m----> 8\u001b[0m dis_errD_fakes_np \u001b[38;5;241m=\u001b[39m \u001b[43mdis_errD_fakes\u001b[49m\u001b[38;5;241;43m.\u001b[39;49m\u001b[43mcpu\u001b[49m()\u001b[38;5;241m.\u001b[39mnumpy()\n\u001b[0;32m      9\u001b[0m aux_errD_reals_np \u001b[38;5;241m=\u001b[39m aux_errD_reals\u001b[38;5;241m.\u001b[39mcpu()\u001b[38;5;241m.\u001b[39mnumpy()\n\u001b[0;32m     10\u001b[0m aux_errD_fakes_np \u001b[38;5;241m=\u001b[39m aux_errD_fakes\u001b[38;5;241m.\u001b[39mcpu()\u001b[38;5;241m.\u001b[39mnumpy()\n",
      "\u001b[1;31mAttributeError\u001b[0m: 'list' object has no attribute 'cpu'"
     ]
    }
   ],
   "source": [
    "import matplotlib.pyplot as plt\n",
    "import numpy as np\n",
    "\n",
    "# 假设这是您的数据张量，这里我们只是示例，您应当使用您自己的数据\n",
    "# 假设 dis_errD_fakes, aux_errD_reals, aux_errD_fakes 已经是CUDA上的张量\n",
    "\n",
    "# 将张量从CUDA转移到CPU，并转换为NumPy数组\n",
    "dis_errD_fakes_np = dis_errD_fakes.cpu().numpy()\n",
    "aux_errD_reals_np = aux_errD_reals.cpu().numpy()\n",
    "aux_errD_fakes_np = aux_errD_fakes.cpu().numpy()\n",
    "\n",
    "# 创建一个行三列的子图布局\n",
    "fig, axs = plt.subplots(1, 3, figsize=(15, 5)) # figsize可以根据需要调整\n",
    "\n",
    "# 在第一个子图上绘制dis_errD_fakes\n",
    "axs[0].plot(dis_errD_fakes_np)\n",
    "axs[0].set_title('dis_errD_fakes') # 可以设置标题\n",
    "axs[0].set_xlabel('Epoch') # 设置X轴标签\n",
    "axs[0].set_ylabel('Error') # 设置Y轴标签\n",
    "\n",
    "# 在第二个子图上绘制aux_errD_reals\n",
    "axs[1].plot(aux_errD_reals_np)\n",
    "axs[1].set_title('aux_errD_reals')\n",
    "axs[1].set_xlabel('Epoch')\n",
    "axs[1].set_ylabel('Error')\n",
    "\n",
    "# 在第三个子图上绘制aux_errD_fakes\n",
    "axs[2].plot(aux_errD_fakes_np)\n",
    "axs[2].set_title('aux_errD_fakes')\n",
    "axs[2].set_xlabel('Epoch')\n",
    "axs[2].set_ylabel('Error')\n",
    "\n",
    "plt.tight_layout() # 自动调整子图间距\n",
    "plt.show() # 显示图表\n"
   ]
  },
  {
   "cell_type": "code",
   "execution_count": 31,
   "metadata": {},
   "outputs": [
    {
     "name": "stdout",
     "output_type": "stream",
     "text": [
      "[[...], [...], [...], [...], [...], [...], [...], [...], [...], [...]]\n",
      "[[...], [...], [...], [...], [...], [...], [...], [...], [...], [...]]\n",
      "[[...], [...], [...], [...], [...], [...], [...], [...], [...], [...]]\n",
      "[[...], [...], [...], [...], [...], [...], [...], [...], [...], [...]]\n",
      "[[...], [...], [...], [...], [...], [...], [...], [...], [...], [...]]\n",
      "[[...], [...], [...], [...], [...], [...], [...], [...], [...], [...]]\n",
      "[[...], [...], [...], [...], [...], [...], [...], [...], [...], [...]]\n",
      "[[...], [...], [...], [...], [...], [...], [...], [...], [...], [...]]\n",
      "[[...], [...], [...], [...], [...], [...], [...], [...], [...], [...]]\n",
      "[[...], [...], [...], [...], [...], [...], [...], [...], [...], [...]]\n"
     ]
    }
   ],
   "source": [
    "for i in range(10):\n",
    "    print(aux_errD_fakes)"
   ]
  }
 ],
 "metadata": {
  "kernelspec": {
   "display_name": "myenv",
   "language": "python",
   "name": "python3"
  },
  "language_info": {
   "codemirror_mode": {
    "name": "ipython",
    "version": 3
   },
   "file_extension": ".py",
   "mimetype": "text/x-python",
   "name": "python",
   "nbconvert_exporter": "python",
   "pygments_lexer": "ipython3",
   "version": "3.9.18"
  }
 },
 "nbformat": 4,
 "nbformat_minor": 2
}
