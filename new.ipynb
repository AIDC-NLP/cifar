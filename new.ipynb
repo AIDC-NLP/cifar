{
 "cells": [
  {
   "cell_type": "code",
   "execution_count": null,
   "metadata": {},
   "outputs": [],
   "source": [
    "import pandas as pd\n",
    "import matplotlib.pyplot as plt\n",
    "import numpy as np\n",
    "import torch\n",
    "from torch import nn\n",
    "from torch.utils.data import DataLoader"
   ]
  },
  {
   "cell_type": "code",
   "execution_count": null,
   "metadata": {},
   "outputs": [],
   "source": [
    "data_or=pd.read_csv('train.csv')\n",
    "data_or"
   ]
  },
  {
   "cell_type": "code",
   "execution_count": null,
   "metadata": {},
   "outputs": [],
   "source": [
    "def tran(x):\n",
    "    x=x.split(' ')\n",
    "    templis=[]\n",
    "    for i in range(len(x)):\n",
    "        templis.append(int(x[i]))\n",
    "    templis=np.array(templis)\n",
    "    np_fin=templis.reshape(48,48)\n",
    "    return np_fin\n",
    "x=tran(data_or.iloc[0][1])\n",
    "x.shape\n",
    "        "
   ]
  },
  {
   "cell_type": "code",
   "execution_count": null,
   "metadata": {},
   "outputs": [],
   "source": [
    "templis=[]\n",
    "for i in range(2304):\n",
    "    templis.append(int(x1[i]))\n",
    "len(templis)\n",
    "nplis=np.array(templis)\n",
    "nplis=nplis.reshape(48,48)\n",
    "nplis.shape\n",
    "plt.imshow(nplis, cmap='gray')  # 使用灰度颜色映射\n",
    "plt.colorbar()  # 显示颜色条\n",
    "plt.show()"
   ]
  },
  {
   "cell_type": "code",
   "execution_count": null,
   "metadata": {},
   "outputs": [],
   "source": [
    "import torch\n",
    "from torch.utils.data import Dataset\n",
    "import numpy as np\n",
    "# 如果需要加载图像，可以取消下一行的注释\n",
    "# from PIL import Image\n",
    "\n",
    "class CustomDataset(Dataset):\n",
    "    def __init__(self, data_or, tran,transform=None):\n",
    "\n",
    "        self.data_or = data_or\n",
    "        self.transform = transform\n",
    "        self.tran=tran\n",
    "    def __len__(self):\n",
    "\n",
    "        return len(self.data_or)\n",
    "\n",
    "    def __getitem__(self, idx):\n",
    "\n",
    "        x=data_or.iloc[idx][1]\n",
    "        x=tran(x)\n",
    "        y=data_or.iloc[idx][0]\n",
    "        return x,y\n"
   ]
  },
  {
   "cell_type": "code",
   "execution_count": null,
   "metadata": {},
   "outputs": [],
   "source": [
    "dataset = CustomDataset(data_or=data_or,tran=tran)\n",
    "dataloader = DataLoader(dataset, batch_size=4, shuffle=True, num_workers=0)\n",
    "for x,y in dataloader:\n",
    "    print(x,y)"
   ]
  },
  {
   "cell_type": "code",
   "execution_count": 6,
   "metadata": {},
   "outputs": [
    {
     "name": "stdout",
     "output_type": "stream",
     "text": [
      "torch.Size([1, 1000])\n"
     ]
    }
   ],
   "source": [
    "import torch\n",
    "import torch.nn as nn\n",
    "import torch.nn.functional as F\n",
    "\n",
    "class PatchEmbeddings(nn.Module):\n",
    "    def __init__(self, img_size, patch_size, in_channels, embed_size):\n",
    "        super(PatchEmbeddings, self).__init__()\n",
    "        self.img_size = img_size\n",
    "        self.patch_size = patch_size\n",
    "        self.in_channels = in_channels\n",
    "        self.embed_size = embed_size\n",
    "\n",
    "        self.n_patches = (img_size // patch_size) ** 2\n",
    "        self.projection = nn.Conv2d(in_channels, embed_size, kernel_size=patch_size, stride=patch_size)\n",
    "\n",
    "        self.cls_token = nn.Parameter(torch.randn(1, 1, embed_size))\n",
    "        self.positions = nn.Parameter(torch.randn(self.n_patches + 1, embed_size))\n",
    "\n",
    "    def forward(self, x):\n",
    "        B = x.shape[0]\n",
    "        x = self.projection(x)  # [B, E, H', W']\n",
    "        x = x.flatten(2)  # Flatten patches [B, E, N_patches]\n",
    "        x = x.transpose(1, 2)  # Transpose to get [B, N_patches, E]\n",
    "        \n",
    "        cls_tokens = self.cls_token.expand(B, -1, -1)\n",
    "        x = torch.cat((cls_tokens, x), dim=1)  # Concatenate cls_token\n",
    "        x += self.positions  # Add position embeddings\n",
    "        return x\n",
    "\n",
    "\n",
    "class TransformerEncoderLayer(nn.Module):\n",
    "    def __init__(self, embed_size, heads, forward_expansion, dropout):\n",
    "        super(TransformerEncoderLayer, self).__init__()\n",
    "        self.attention = nn.MultiheadAttention(embed_dim=embed_size, num_heads=heads)\n",
    "        self.norm1 = nn.LayerNorm(embed_size)\n",
    "        self.norm2 = nn.LayerNorm(embed_size)\n",
    "        self.feed_forward = nn.Sequential(\n",
    "            nn.Linear(embed_size, forward_expansion * embed_size),\n",
    "            nn.ReLU(),\n",
    "            nn.Linear(forward_expansion * embed_size, embed_size),\n",
    "        )\n",
    "        self.dropout = nn.Dropout(dropout)\n",
    "\n",
    "    def forward(self, x):\n",
    "        identity = x\n",
    "        attn_output, _ = self.attention(x, x, x)\n",
    "        x = self.norm1(attn_output + identity)\n",
    "        x = self.dropout(x)\n",
    "        forward = self.feed_forward(x)\n",
    "        x = self.norm2(forward + x)\n",
    "        x = self.dropout(x)\n",
    "        return x\n",
    "\n",
    "class ViT(nn.Module):\n",
    "    def __init__(self, img_size=48, patch_size=12, in_channels=1, num_classes=1000,\n",
    "                 embed_size=768, depth=12, heads=8, forward_expansion=4, dropout=0.1):\n",
    "        super(ViT, self).__init__()\n",
    "        self.patch_embeddings = PatchEmbeddings(img_size, patch_size, in_channels, embed_size)\n",
    "        self.encoder_layers = nn.ModuleList([\n",
    "            TransformerEncoderLayer(embed_size, heads, forward_expansion, dropout) \n",
    "            for _ in range(depth)\n",
    "        ])\n",
    "        self.mlp_head = nn.Sequential(\n",
    "            nn.LayerNorm(embed_size),\n",
    "            nn.Linear(embed_size, num_classes)\n",
    "        )\n",
    "\n",
    "    def forward(self, x):\n",
    "        x = self.patch_embeddings(x)\n",
    "        for layer in self.encoder_layers:\n",
    "            x = layer(x)\n",
    "        cls_token = x[:, 0]\n",
    "        out = self.mlp_head(cls_token)\n",
    "        return out\n",
    "model=ViT()\n",
    "x = torch.randn(1, 1, 48, 48)\n",
    "print(model(x).shape)"
   ]
  },
  {
   "cell_type": "code",
   "execution_count": 1,
   "metadata": {},
   "outputs": [
    {
     "name": "stdout",
     "output_type": "stream",
     "text": [
      "Max value: tensor(6)\n",
      "Max values along dim=0: tensor([4, 5, 6])\n",
      "Indices of max values along dim=0: tensor([1, 1, 1])\n",
      "Max values along dim=1: tensor([3, 6])\n",
      "Indices of max values along dim=1: tensor([2, 2])\n"
     ]
    }
   ],
   "source": [
    "import torch\n",
    "\n",
    "x = torch.tensor([[1, 2, 3],\n",
    "                  [4, 5, 6]])\n",
    "\n",
    "# 没有指定dim，返回所有元素的最大值\n",
    "max_value = torch.max(x)\n",
    "print(\"Max value:\", max_value)\n",
    "\n",
    "# 指定dim=0，沿着第一个维度（垂直方向）计算最大值\n",
    "max_values, indices = torch.max(x, dim=0)\n",
    "print(\"Max values along dim=0:\", max_values)\n",
    "print(\"Indices of max values along dim=0:\", indices)\n",
    "\n",
    "# 指定dim=1，沿着第二个维度（水平方向）计算最大值\n",
    "max_values, indices = torch.max(x, dim=1)\n",
    "print(\"Max values along dim=1:\", max_values)\n",
    "print(\"Indices of max values along dim=1:\", indices)\n"
   ]
  }
 ],
 "metadata": {
  "kernelspec": {
   "display_name": "myenv",
   "language": "python",
   "name": "python3"
  },
  "language_info": {
   "codemirror_mode": {
    "name": "ipython",
    "version": 3
   },
   "file_extension": ".py",
   "mimetype": "text/x-python",
   "name": "python",
   "nbconvert_exporter": "python",
   "pygments_lexer": "ipython3",
   "version": "3.9.18"
  }
 },
 "nbformat": 4,
 "nbformat_minor": 2
}
